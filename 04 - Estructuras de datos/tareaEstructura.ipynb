{
 "cells": [
  {
   "cell_type": "code",
   "execution_count": 7,
   "metadata": {},
   "outputs": [
    {
     "name": "stdout",
     "output_type": "stream",
     "text": [
      "['Madrid', 'Oaxaca', 'Berlin', 'Oslo', 'Toronto']\n",
      "Oaxaca\n",
      "['Oaxaca', 'Berlin', 'Oslo', 'Toronto']\n",
      "<class 'list'>\n",
      "['Berlin', 'Oslo', 'Toronto']\n",
      "['Madrid', 'Oaxaca', 'Berlin', 'Oslo']\n",
      "['Madrid', 'Oaxaca', 'Berlin', 'Oslo', 'Toronto', 'Roma']\n",
      "['Madrid', 'Oaxaca', 'Berlin', 'Oslo', 'Toronto', 'Roma', 'Toronto']\n",
      "['Madrid', 'Oaxaca', 'Berlin', 'Amsterdam', 'Oslo', 'Toronto', 'Roma', 'Toronto']\n",
      "['Madrid', 'Oaxaca', 'Berlin', 'Amsterdam', 'Oslo', 'Toronto', 'Roma', 'Toronto', 'Bruselas', 'Paris']\n",
      "5\n",
      "['Oaxaca', 'Berlin', 'Amsterdam', 'Oslo', 'Toronto', 'Roma', 'Toronto', 'Bruselas', 'Paris']\n",
      "Paris\n",
      "['Oaxaca', 'Berlin', 'Amsterdam', 'Oslo', 'Toronto', 'Roma', 'Toronto', 'Bruselas', 'Oaxaca', 'Berlin', 'Amsterdam', 'Oslo', 'Toronto', 'Roma', 'Toronto', 'Bruselas', 'Oaxaca', 'Berlin', 'Amsterdam', 'Oslo', 'Toronto', 'Roma', 'Toronto', 'Bruselas', 'Oaxaca', 'Berlin', 'Amsterdam', 'Oslo', 'Toronto', 'Roma', 'Toronto', 'Bruselas']\n",
      "(1, 2, 3, 4, 5, 6, 7, 8, 9, 10, 11, 12, 13, 14, 15, 16, 17, 18, 19, 20)\n",
      "(10, 11, 12, 13, 14, 15)\n",
      "True\n",
      "False\n",
      "False\n",
      "0\n",
      "1\n",
      "[1, 2, 3, 4, 5, 6, 7, 8, 9, 10, 11, 12, 13, 14, 15, 16, 17, 18, 19, 20]\n",
      "Primero 1 segundo 2 Tercero 3\n",
      "['azul', 'verde']\n",
      "dict_keys(['ciudad', 'pais', 'colores'])\n"
     ]
    }
   ],
   "source": [
    "lista1 = ['Madrid', 'Oaxaca', 'Berlin', 'Oslo', 'Toronto']\n",
    "print (lista1) \n",
    "print (lista1[1])\n",
    "print (lista1[1:5])\n",
    "print (type(lista1))\n",
    "print (lista1[2:])\n",
    "print (lista1[:4])\n",
    "lista1.append('Roma')\n",
    "print(lista1)\n",
    "lista1.append('Toronto')\n",
    "print(lista1)\n",
    "lista1.insert(3,'Amsterdam')\n",
    "print(lista1)\n",
    "lista1.extend(['Bruselas','Paris'])\n",
    "print(lista1)\n",
    "\n",
    "print(lista1.index('Toronto'))\n",
    "#print(lista.index('Barcelona'))\n",
    "\n",
    "lista1.remove('Madrid')\n",
    "print(lista1)\n",
    "#lista1.remove('Barcelona')\n",
    "#print(lista1)\n",
    "ultimo = lista1.pop()\n",
    "print(ultimo)\n",
    "print(lista1*4)\n",
    "tuple1 = tuple (range (1,21))\n",
    "print (tuple1)\n",
    "print (tuple1[9:15])\n",
    "print (20 in tuple1)\n",
    "print (30 in tuple1)\n",
    "print ('Paris'in lista1)\n",
    "print (lista1.count('Paris'))\n",
    "print (tuple1.count(10))\n",
    "milista2 = list(tuple1)\n",
    "print(milista2)\n",
    "tuple2 = tuple (range (1,21))\n",
    "\n",
    "primero,segundo, tercero, *_ = tuple2 \n",
    "print(\"Primero\", primero, \"segundo\", segundo, 'Tercero', tercero)\n",
    "mi_diccionario = {  'ciudad' : [lista1],\n",
    "                    'pais': ['francia', 'mexico'],\n",
    "                    'colores': ['azul','verde']}\n",
    "print(mi_diccionario ['colores'])\n",
    "print(mi_diccionario.keys())\n"
   ]
  },
  {
   "cell_type": "code",
   "execution_count": 8,
   "metadata": {},
   "outputs": [
    {
     "name": "stdout",
     "output_type": "stream",
     "text": [
      "['colombia', 'venezuela', 'peru']\n"
     ]
    }
   ],
   "source": [
    "list1 = [\"colombia\",'venezuela','peru']\n",
    "print(list1)"
   ]
  },
  {
   "cell_type": "code",
   "execution_count": 9,
   "metadata": {},
   "outputs": [
    {
     "name": "stdout",
     "output_type": "stream",
     "text": [
      "['colombia', 'venezuela', 'peru', 'paris']\n"
     ]
    }
   ],
   "source": [
    "if ('paris' in list1):\n",
    "    print('Se inserto el elemento paris')\n",
    "else:\n",
    "    list1.append('paris')\n",
    "    print(list1)"
   ]
  },
  {
   "cell_type": "code",
   "execution_count": 10,
   "metadata": {},
   "outputs": [
    {
     "name": "stdout",
     "output_type": "stream",
     "text": [
      "La cantidad es: 3\n"
     ]
    }
   ],
   "source": [
    "aux = 0\n",
    "for letra in 'Paula':\n",
    "    if (letra != 'a'):\n",
    "        aux +=1\n",
    "print ('La cantidad es:',aux)\n",
    "    "
   ]
  },
  {
   "cell_type": "code",
   "execution_count": 1,
   "metadata": {},
   "outputs": [
    {
     "name": "stdout",
     "output_type": "stream",
     "text": [
      "2\n"
     ]
    }
   ],
   "source": [
    "print (2)"
   ]
  },
  {
   "cell_type": "code",
   "execution_count": 21,
   "metadata": {},
   "outputs": [
    {
     "name": "stdout",
     "output_type": "stream",
     "text": [
      "5\n"
     ]
    }
   ],
   "source": [
    "def fun_ejemplo(z):\n",
    "    return z\n",
    "print(fun_ejemplo(5))"
   ]
  },
  {
   "cell_type": "code",
   "execution_count": 19,
   "metadata": {},
   "outputs": [
    {
     "name": "stdout",
     "output_type": "stream",
     "text": [
      "1\n"
     ]
    }
   ],
   "source": [
    "print(fun_ejemplo(5))"
   ]
  },
  {
   "cell_type": "code",
   "execution_count": 24,
   "metadata": {},
   "outputs": [
    {
     "ename": "IndentationError",
     "evalue": "expected an indented block after 'if' statement on line 2 (2231905251.py, line 3)",
     "output_type": "error",
     "traceback": [
      "\u001b[0;36m  Cell \u001b[0;32mIn[24], line 3\u001b[0;36m\u001b[0m\n\u001b[0;31m    return ('Es primo')\u001b[0m\n\u001b[0m    ^\u001b[0m\n\u001b[0;31mIndentationError\u001b[0m\u001b[0;31m:\u001b[0m expected an indented block after 'if' statement on line 2\n"
     ]
    }
   ],
   "source": [
    "def primos (n):\n",
    "    if n% 2 == 0:\n",
    "    return ('Es primo')\n",
    "    else return('No es primo')"
   ]
  },
  {
   "cell_type": "code",
   "execution_count": 1,
   "metadata": {},
   "outputs": [],
   "source": [
    "class Animal:\n",
    ">>>     def __init__(self, especie, edad):\n",
    ">>>         self.especie = especie\n",
    ">>>         self.edad = edad\n",
    ">>> \n",
    ">>>     # Método genérico pero con implementación particular\n",
    ">>>     def hablar(self):\n",
    ">>>         # Método vacío\n",
    ">>>         pass\n",
    ">>> \n",
    ">>>     # Método genérico pero con implementación particular\n",
    ">>>     def moverse(self):\n",
    ">>>         # Método vacío\n",
    ">>>         pass\n",
    ">>> \n",
    ">>>     # Método genérico con la misma implementación\n",
    ">>>     def describeme(self):\n",
    ">>>         print(\"Soy un Animal del tipo\", type(self).__name__)"
   ]
  },
  {
   "cell_type": "code",
   "execution_count": 2,
   "metadata": {},
   "outputs": [],
   "source": [
    ">>> class Animal:\n",
    ">>>     def __init__(self, especie, edad):\n",
    ">>>         self.especie = especie\n",
    ">>>         self.edad = edad\n",
    ">>> \n",
    ">>>     # Método genérico pero con implementación particular\n",
    ">>>     def hablar(self):\n",
    ">>>         # Método vacío\n",
    ">>>         pass\n",
    ">>> \n",
    ">>>     # Método genérico pero con implementación particular\n",
    ">>>     def moverse(self):\n",
    ">>>         # Método vacío\n",
    ">>>         pass\n",
    ">>> \n",
    ">>>     # Método genérico con la misma implementación\n",
    ">>>     def describeme(self):\n",
    ">>>         print(\"Soy un Animal del tipo\", type(self).__name__)"
   ]
  }
 ],
 "metadata": {
  "kernelspec": {
   "display_name": "Python 3",
   "language": "python",
   "name": "python3"
  },
  "language_info": {
   "codemirror_mode": {
    "name": "ipython",
    "version": 3
   },
   "file_extension": ".py",
   "mimetype": "text/x-python",
   "name": "python",
   "nbconvert_exporter": "python",
   "pygments_lexer": "ipython3",
   "version": "3.11.2"
  },
  "orig_nbformat": 4
 },
 "nbformat": 4,
 "nbformat_minor": 2
}
